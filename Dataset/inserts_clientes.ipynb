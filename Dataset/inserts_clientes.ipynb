{
 "cells": [
  {
   "cell_type": "markdown",
   "id": "09f876ff",
   "metadata": {},
   "source": [
    "Utilizando o Python para criar um script de carregamento para os clientes"
   ]
  },
  {
   "cell_type": "code",
   "execution_count": 2,
   "id": "819ff055",
   "metadata": {},
   "outputs": [],
   "source": [
    "import pandas as pd"
   ]
  },
  {
   "cell_type": "markdown",
   "id": "40925b6e",
   "metadata": {},
   "source": [
    "Mostrando o conteudo do CSV (Apenas os dois primeiros)"
   ]
  },
  {
   "cell_type": "code",
   "execution_count": 2,
   "id": "91969a23",
   "metadata": {},
   "outputs": [
    {
     "data": {
      "text/html": [
       "<div>\n",
       "<style scoped>\n",
       "    .dataframe tbody tr th:only-of-type {\n",
       "        vertical-align: middle;\n",
       "    }\n",
       "\n",
       "    .dataframe tbody tr th {\n",
       "        vertical-align: top;\n",
       "    }\n",
       "\n",
       "    .dataframe thead th {\n",
       "        text-align: right;\n",
       "    }\n",
       "</style>\n",
       "<table border=\"1\" class=\"dataframe\">\n",
       "  <thead>\n",
       "    <tr style=\"text-align: right;\">\n",
       "      <th></th>\n",
       "      <th>id_cliente</th>\n",
       "      <th>nome</th>\n",
       "      <th>segmento</th>\n",
       "      <th>id_regiao_sede</th>\n",
       "    </tr>\n",
       "  </thead>\n",
       "  <tbody>\n",
       "    <tr>\n",
       "      <th>0</th>\n",
       "      <td>1</td>\n",
       "      <td>Montadora Alpha</td>\n",
       "      <td>OEM</td>\n",
       "      <td>NAM-US-MI</td>\n",
       "    </tr>\n",
       "    <tr>\n",
       "      <th>1</th>\n",
       "      <td>2</td>\n",
       "      <td>Distribuidora Beta</td>\n",
       "      <td>Revenda</td>\n",
       "      <td>SAM-BR-SP</td>\n",
       "    </tr>\n",
       "  </tbody>\n",
       "</table>\n",
       "</div>"
      ],
      "text/plain": [
       "   id_cliente                nome segmento id_regiao_sede\n",
       "0           1     Montadora Alpha      OEM      NAM-US-MI\n",
       "1           2  Distribuidora Beta  Revenda      SAM-BR-SP"
      ]
     },
     "execution_count": 2,
     "metadata": {},
     "output_type": "execute_result"
    }
   ],
   "source": [
    "df = pd.read_csv('dim_clientes.csv')\n",
    "df.head(2)"
   ]
  },
  {
   "cell_type": "markdown",
   "id": "4f7a7fd3",
   "metadata": {},
   "source": [
    "Vamos primeiro entender os metadados do nosso arquivo, para checagem de tipo de dados etc"
   ]
  },
  {
   "cell_type": "code",
   "execution_count": 3,
   "id": "d19319be",
   "metadata": {},
   "outputs": [
    {
     "name": "stdout",
     "output_type": "stream",
     "text": [
      "<class 'pandas.core.frame.DataFrame'>\n",
      "RangeIndex: 8 entries, 0 to 7\n",
      "Data columns (total 4 columns):\n",
      " #   Column          Non-Null Count  Dtype \n",
      "---  ------          --------------  ----- \n",
      " 0   id_cliente      8 non-null      int64 \n",
      " 1   nome            8 non-null      object\n",
      " 2   segmento        8 non-null      object\n",
      " 3   id_regiao_sede  8 non-null      object\n",
      "dtypes: int64(1), object(3)\n",
      "memory usage: 388.0+ bytes\n"
     ]
    }
   ],
   "source": [
    "df.info()"
   ]
  },
  {
   "cell_type": "markdown",
   "id": "26d0aefa",
   "metadata": {},
   "source": [
    "Agora vamos ao que interessa, a criação do script para inserção de dados no nosso SQL"
   ]
  },
  {
   "cell_type": "markdown",
   "id": "61eed5e5",
   "metadata": {},
   "source": [
    "Pensei de fazer de dois modos, um mais seguro e manual, e outro mais automatico"
   ]
  },
  {
   "cell_type": "markdown",
   "id": "e0d88e03",
   "metadata": {},
   "source": [
    "O primeiro modo eu um script que gera um arquivo SQL com os comandos de insert, e o segundo modo é um script que faz a inserção diretamente no banco de dados."
   ]
  },
  {
   "cell_type": "code",
   "execution_count": 9,
   "id": "8c5488c9",
   "metadata": {},
   "outputs": [
    {
     "name": "stdout",
     "output_type": "stream",
     "text": [
      "Arquivo 'inserts_clientes.sql' gerado com sucesso!\n"
     ]
    }
   ],
   "source": [
    "with open('inserts_clientes.sql', 'w', encoding='utf-8') as f:\n",
    "    for _, row in df.iterrows():\n",
    "        nome = row['nome'].replace(\"'\", \"''\")\n",
    "        segmento = row['segmento'].replace(\"'\", \"''\")\n",
    "        pais = row['id_regiao_sede'].replace(\"'\", \"''\")\n",
    "        \n",
    "        insert_sql = (\n",
    "            \"INSERT INTO clientes (id_cliente, nome, segmento, pais) \"\n",
    "            \"VALUES ({}, '{}', '{}', '{}');\\n\".format(row['id_cliente'], nome, segmento, pais)\n",
    "        )\n",
    "        f.write(insert_sql)\n",
    "\n",
    "print(\"Arquivo 'inserts_clientes.sql' gerado com sucesso!\")\n"
   ]
  },
  {
   "cell_type": "code",
   "execution_count": 4,
   "id": "8981f246",
   "metadata": {},
   "outputs": [
    {
     "name": "stdout",
     "output_type": "stream",
     "text": [
      "8 registros inseridos com sucesso na tabela clientes.\n"
     ]
    }
   ],
   "source": [
    "# Primeiramente, vou utilizar uma biblioteca para conectar ao MySQL e inserir os dados do DataFrame.\n",
    "\n",
    "import mysql.connector\n",
    "\n",
    "# Função para inserir dados no MySQL, definindo o nome da tabela como 'clientes' e a conexão com o banco de dados.\n",
    "def insert_data_to_mysql(df, table_name='clientes'):\n",
    "    connection_params = {\n",
    "        'host': 'localhost',\n",
    "        'user': 'root',\n",
    "        'password': 'pw4dummy',\n",
    "        'database': 'prod_nsk'\n",
    "    }\n",
    "    data_to_insert = []  # declarar fora do try para retornar depois\n",
    "\n",
    "    try:\n",
    "        # Conectar ao banco de dados MySQL\n",
    "        conn = mysql.connector.connect(**connection_params)\n",
    "        # Criar um cursor para executar comandos SQL\n",
    "        cursor = conn.cursor()\n",
    "\n",
    "        # SQL para inserir dados na tabela\n",
    "        # Usando f-string para facilitar a formatação\n",
    "        sql = f\"INSERT INTO {table_name} (id_cliente, nome, segmento, id_regiao_sede) VALUES (%s, %s, %s, %s)\"\n",
    "\n",
    "        for _, row in df.iterrows():\n",
    "            values = (\n",
    "                int(row['id_cliente']),\n",
    "                row['nome'],\n",
    "                row['segmento'],\n",
    "                row['id_regiao_sede']\n",
    "            )\n",
    "            data_to_insert.append(values)\n",
    "\n",
    "        cursor.executemany(sql, data_to_insert)\n",
    "        conn.commit()\n",
    "\n",
    "        #mensagem de sucesso\n",
    "        print(f\"{cursor.rowcount} registros inseridos com sucesso na tabela {table_name}.\")\n",
    "    \n",
    "    except mysql.connector.Error as err:\n",
    "        # mensagem de erro\n",
    "        print(f\"Erro MySQL: {err}\")\n",
    "    \n",
    "    # fechar o cursor e a conexão\n",
    "    finally:\n",
    "        if cursor:\n",
    "            cursor.close()\n",
    "        if conn:\n",
    "            conn.close()\n",
    "    \n",
    "    return data_to_insert  # retornando aqui\n",
    "\n",
    "# Executar e capturar os dados\n",
    "data_to_insert = insert_data_to_mysql(df)\n"
   ]
  }
 ],
 "metadata": {
  "kernelspec": {
   "display_name": "Python 3",
   "language": "python",
   "name": "python3"
  },
  "language_info": {
   "codemirror_mode": {
    "name": "ipython",
    "version": 3
   },
   "file_extension": ".py",
   "mimetype": "text/x-python",
   "name": "python",
   "nbconvert_exporter": "python",
   "pygments_lexer": "ipython3",
   "version": "3.13.0"
  }
 },
 "nbformat": 4,
 "nbformat_minor": 5
}
