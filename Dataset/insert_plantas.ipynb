{
 "cells": [
  {
   "cell_type": "markdown",
   "id": "09f876ff",
   "metadata": {},
   "source": [
    "Utilizando o Python para criar um script de carregamento para a \"Plantas\""
   ]
  },
  {
   "cell_type": "code",
   "execution_count": 1,
   "id": "819ff055",
   "metadata": {},
   "outputs": [],
   "source": [
    "import pandas as pd"
   ]
  },
  {
   "cell_type": "markdown",
   "id": "40925b6e",
   "metadata": {},
   "source": [
    "Mostrando o conteudo do CSV (Apenas os dois primeiros)"
   ]
  },
  {
   "cell_type": "code",
   "execution_count": 2,
   "id": "91969a23",
   "metadata": {},
   "outputs": [
    {
     "data": {
      "text/html": [
       "<div>\n",
       "<style scoped>\n",
       "    .dataframe tbody tr th:only-of-type {\n",
       "        vertical-align: middle;\n",
       "    }\n",
       "\n",
       "    .dataframe tbody tr th {\n",
       "        vertical-align: top;\n",
       "    }\n",
       "\n",
       "    .dataframe thead th {\n",
       "        text-align: right;\n",
       "    }\n",
       "</style>\n",
       "<table border=\"1\" class=\"dataframe\">\n",
       "  <thead>\n",
       "    <tr style=\"text-align: right;\">\n",
       "      <th></th>\n",
       "      <th>id_planta</th>\n",
       "      <th>nome</th>\n",
       "      <th>pais</th>\n",
       "      <th>estado</th>\n",
       "      <th>cidade</th>\n",
       "    </tr>\n",
       "  </thead>\n",
       "  <tbody>\n",
       "    <tr>\n",
       "      <th>0</th>\n",
       "      <td>1</td>\n",
       "      <td>NSK Brasil Ltda</td>\n",
       "      <td>Brazil</td>\n",
       "      <td>São Paulo</td>\n",
       "      <td>Suzano</td>\n",
       "    </tr>\n",
       "    <tr>\n",
       "      <th>1</th>\n",
       "      <td>2</td>\n",
       "      <td>NSK Argentina SRL</td>\n",
       "      <td>Argentina</td>\n",
       "      <td>Buenos Aires</td>\n",
       "      <td>Buenos Aires</td>\n",
       "    </tr>\n",
       "  </tbody>\n",
       "</table>\n",
       "</div>"
      ],
      "text/plain": [
       "   id_planta               nome       pais        estado        cidade\n",
       "0          1    NSK Brasil Ltda     Brazil     São Paulo        Suzano\n",
       "1          2  NSK Argentina SRL  Argentina  Buenos Aires  Buenos Aires"
      ]
     },
     "execution_count": 2,
     "metadata": {},
     "output_type": "execute_result"
    }
   ],
   "source": [
    "df = pd.read_csv('dim_plantas.csv')\n",
    "df.head(2)"
   ]
  },
  {
   "cell_type": "markdown",
   "id": "4f7a7fd3",
   "metadata": {},
   "source": [
    "Visualizando os metadados do nosso arquivo, para checagem de tipo de dados etc"
   ]
  },
  {
   "cell_type": "code",
   "execution_count": 3,
   "id": "d19319be",
   "metadata": {},
   "outputs": [
    {
     "name": "stdout",
     "output_type": "stream",
     "text": [
      "<class 'pandas.core.frame.DataFrame'>\n",
      "RangeIndex: 10 entries, 0 to 9\n",
      "Data columns (total 5 columns):\n",
      " #   Column     Non-Null Count  Dtype \n",
      "---  ------     --------------  ----- \n",
      " 0   id_planta  10 non-null     int64 \n",
      " 1   nome       10 non-null     object\n",
      " 2   pais       10 non-null     object\n",
      " 3   estado     10 non-null     object\n",
      " 4   cidade     10 non-null     object\n",
      "dtypes: int64(1), object(4)\n",
      "memory usage: 532.0+ bytes\n"
     ]
    }
   ],
   "source": [
    "df.info()"
   ]
  },
  {
   "cell_type": "markdown",
   "id": "e0d88e03",
   "metadata": {},
   "source": [
    "Primeiro modo, inserção manual, apenas cria um script de inserção."
   ]
  },
  {
   "cell_type": "code",
   "execution_count": 5,
   "id": "8c5488c9",
   "metadata": {},
   "outputs": [
    {
     "name": "stdout",
     "output_type": "stream",
     "text": [
      "Arquivo 'insert_plantas.sql' gerado com sucesso!\n"
     ]
    }
   ],
   "source": [
    "with open('inserts_plantas.sql', 'w', encoding='utf-8') as f:\n",
    "    for _, row in df.iterrows():\n",
    "        insert_sql = (\n",
    "            \"INSERT INTO plantas (id_planta, nome, pais, estado, cidade) \"\n",
    "            \"VALUES ({}, '{}', '{}', '{}', '{}');\\n\".format(row['id_planta'], row['nome'], row['pais'], row['estado'], row['cidade'])\n",
    "        )\n",
    "        f.write(insert_sql)\n",
    "\n",
    "print(\"Arquivo 'insert_plantas.sql' gerado com sucesso!\")\n"
   ]
  },
  {
   "cell_type": "markdown",
   "id": "d5af1345",
   "metadata": {},
   "source": [
    "Segundo modo, inserção direta no banco de dados, executa os comandos de insert diretamente."
   ]
  },
  {
   "cell_type": "code",
   "execution_count": null,
   "id": "8981f246",
   "metadata": {},
   "outputs": [
    {
     "name": "stdout",
     "output_type": "stream",
     "text": [
      "10 registros inseridos com sucesso na tabela plantas.\n"
     ]
    }
   ],
   "source": [
    "# Primeiramente, vou utilizar uma biblioteca para conectar ao MySQL e inserir os dados do DataFrame.\n",
    "import mysql.connector\n",
    "\n",
    "# Função para inserir dados no MySQL, definindo o nome da tabela como 'linha_producao' e a conexão com o banco de dados.\n",
    "def insert_data_to_mysql(df, table_name='plantas'):\n",
    "    connection_params = {\n",
    "        'host': 'localhost',\n",
    "        'user': 'root',\n",
    "        'password': 'pw4dummy',\n",
    "        'database': 'prod_nsk'\n",
    "    }\n",
    "    data_to_insert = []  # declarar fora do try para retornar depois\n",
    "\n",
    "    try:\n",
    "        # Conectar ao banco de dados MySQL\n",
    "        conn = mysql.connector.connect(**connection_params)\n",
    "        # criar um cursor para executar comandos SQL\n",
    "        cursor = conn.cursor()\n",
    "\n",
    "        # SQL para inserir dados na tabela\n",
    "        # Usando f-string para formatar a consulta SQL com o nome da tabela\n",
    "        sql = f\"INSERT INTO {table_name} (id_planta, nome, pais, estado, cidade) VALUES (%s, %s, %s, %s, %s)\"\n",
    "\n",
    "        # Iterar sobre o DataFrame e preparar os dados para inserção\n",
    "        # Usando executemany para inserir múltiplas linhas de uma vez\n",
    "        for _, row in df.iterrows():\n",
    "            values = (\n",
    "                int(row['id_planta']),\n",
    "                row['nome'],\n",
    "                row['pais'],\n",
    "                row['estado'],\n",
    "                row['cidade']\n",
    "            )\n",
    "            data_to_insert.append(values)\n",
    "\n",
    "        cursor.executemany(sql, data_to_insert)\n",
    "        conn.commit()\n",
    "\n",
    "        #mensagem de sucesso\n",
    "        print(f\"{cursor.rowcount} registros inseridos com sucesso na tabela {table_name}.\")\n",
    "    \n",
    "    except mysql.connector.Error as err:\n",
    "        # mensagem de erro\n",
    "        print(f\"Erro MySQL: {err}\")\n",
    "    \n",
    "    # fechar o cursor e a conexão\n",
    "    finally:\n",
    "        if cursor:\n",
    "            cursor.close()\n",
    "        if conn:\n",
    "            conn.close()\n",
    "    \n",
    "    return data_to_insert  # retornando aqui\n",
    "\n",
    "# Executar e capturar os dados\n",
    "data_to_insert = insert_data_to_mysql(df)\n"
   ]
  }
 ],
 "metadata": {
  "kernelspec": {
   "display_name": "Python 3",
   "language": "python",
   "name": "python3"
  },
  "language_info": {
   "codemirror_mode": {
    "name": "ipython",
    "version": 3
   },
   "file_extension": ".py",
   "mimetype": "text/x-python",
   "name": "python",
   "nbconvert_exporter": "python",
   "pygments_lexer": "ipython3",
   "version": "3.13.0"
  }
 },
 "nbformat": 4,
 "nbformat_minor": 5
}
