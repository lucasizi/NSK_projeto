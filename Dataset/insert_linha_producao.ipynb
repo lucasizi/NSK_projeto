{
 "cells": [
  {
   "cell_type": "markdown",
   "id": "09f876ff",
   "metadata": {},
   "source": [
    "Utilizando o Python para criar um script de carregamento para a \"Linha de Produção\""
   ]
  },
  {
   "cell_type": "code",
   "execution_count": 1,
   "id": "819ff055",
   "metadata": {},
   "outputs": [],
   "source": [
    "import pandas as pd"
   ]
  },
  {
   "cell_type": "markdown",
   "id": "40925b6e",
   "metadata": {},
   "source": [
    "Mostrando o conteudo do CSV (Apenas os dois primeiros)"
   ]
  },
  {
   "cell_type": "code",
   "execution_count": 2,
   "id": "91969a23",
   "metadata": {},
   "outputs": [
    {
     "data": {
      "text/html": [
       "<div>\n",
       "<style scoped>\n",
       "    .dataframe tbody tr th:only-of-type {\n",
       "        vertical-align: middle;\n",
       "    }\n",
       "\n",
       "    .dataframe tbody tr th {\n",
       "        vertical-align: top;\n",
       "    }\n",
       "\n",
       "    .dataframe thead th {\n",
       "        text-align: right;\n",
       "    }\n",
       "</style>\n",
       "<table border=\"1\" class=\"dataframe\">\n",
       "  <thead>\n",
       "    <tr style=\"text-align: right;\">\n",
       "      <th></th>\n",
       "      <th>id_linha</th>\n",
       "      <th>nome_linha</th>\n",
       "      <th>turno</th>\n",
       "      <th>capacidade_hora</th>\n",
       "    </tr>\n",
       "  </thead>\n",
       "  <tbody>\n",
       "    <tr>\n",
       "      <th>0</th>\n",
       "      <td>1</td>\n",
       "      <td>Linha A</td>\n",
       "      <td>Manhã</td>\n",
       "      <td>1200</td>\n",
       "    </tr>\n",
       "    <tr>\n",
       "      <th>1</th>\n",
       "      <td>2</td>\n",
       "      <td>Linha A</td>\n",
       "      <td>Tarde</td>\n",
       "      <td>1200</td>\n",
       "    </tr>\n",
       "  </tbody>\n",
       "</table>\n",
       "</div>"
      ],
      "text/plain": [
       "   id_linha nome_linha  turno  capacidade_hora\n",
       "0         1    Linha A  Manhã             1200\n",
       "1         2    Linha A  Tarde             1200"
      ]
     },
     "execution_count": 2,
     "metadata": {},
     "output_type": "execute_result"
    }
   ],
   "source": [
    "df = pd.read_csv('dim_linhas.csv')\n",
    "df.head(2)"
   ]
  },
  {
   "cell_type": "markdown",
   "id": "4f7a7fd3",
   "metadata": {},
   "source": [
    "Visualizando os metadados do nosso arquivo, para checagem de tipo de dados etc"
   ]
  },
  {
   "cell_type": "code",
   "execution_count": 3,
   "id": "d19319be",
   "metadata": {},
   "outputs": [
    {
     "name": "stdout",
     "output_type": "stream",
     "text": [
      "<class 'pandas.core.frame.DataFrame'>\n",
      "RangeIndex: 5 entries, 0 to 4\n",
      "Data columns (total 4 columns):\n",
      " #   Column           Non-Null Count  Dtype \n",
      "---  ------           --------------  ----- \n",
      " 0   id_linha         5 non-null      int64 \n",
      " 1   nome_linha       5 non-null      object\n",
      " 2   turno            5 non-null      object\n",
      " 3   capacidade_hora  5 non-null      int64 \n",
      "dtypes: int64(2), object(2)\n",
      "memory usage: 292.0+ bytes\n"
     ]
    }
   ],
   "source": [
    "df.info()"
   ]
  },
  {
   "cell_type": "markdown",
   "id": "e0d88e03",
   "metadata": {},
   "source": [
    "Primeiro modo, inserção manual, apenas cria um script de inserção."
   ]
  },
  {
   "cell_type": "code",
   "execution_count": 21,
   "id": "8c5488c9",
   "metadata": {},
   "outputs": [
    {
     "name": "stdout",
     "output_type": "stream",
     "text": [
      "Arquivo 'insert_linha_producao.sql' gerado com sucesso!\n"
     ]
    }
   ],
   "source": [
    "with open('inserts_linha_producao.sql', 'w', encoding='utf-8') as f:\n",
    "    for _, row in df.iterrows():\n",
    "        nome_linha = row['nome_linha'].replace(\"'\", \"''\")\n",
    "        turno = row['turno'].replace(\"'\", \"''\")\n",
    "        \n",
    "        insert_sql = (\n",
    "            \"INSERT INTO linha_producao (id_linha, nome_linha, turno, capacidade_hora) \"\n",
    "            \"VALUES ({}, '{}', '{}', {});\\n\".format(row['id_linha'], nome_linha, turno, row['capacidade_hora'])\n",
    "        )\n",
    "        f.write(insert_sql)\n",
    "\n",
    "print(\"Arquivo 'insert_linha_producao.sql' gerado com sucesso!\")\n"
   ]
  },
  {
   "cell_type": "markdown",
   "id": "d5af1345",
   "metadata": {},
   "source": [
    "Segundo modo, inserção direta no banco de dados, executa os comandos de insert diretamente."
   ]
  },
  {
   "cell_type": "code",
   "execution_count": 5,
   "id": "8981f246",
   "metadata": {},
   "outputs": [
    {
     "name": "stderr",
     "output_type": "stream",
     "text": [
      "\n",
      "[notice] A new release of pip is available: 25.1.1 -> 25.2\n",
      "[notice] To update, run: python.exe -m pip install --upgrade pip\n"
     ]
    },
    {
     "name": "stdout",
     "output_type": "stream",
     "text": [
      "Collecting mysql-connector-python\n",
      "  Downloading mysql_connector_python-9.4.0-cp313-cp313-win_amd64.whl.metadata (7.7 kB)\n",
      "Downloading mysql_connector_python-9.4.0-cp313-cp313-win_amd64.whl (16.4 MB)\n",
      "   ---------------------------------------- 0.0/16.4 MB ? eta -:--:--\n",
      "   --------------- ------------------------ 6.6/16.4 MB 32.4 MB/s eta 0:00:01\n",
      "   ------------------------------ --------- 12.3/16.4 MB 29.1 MB/s eta 0:00:01\n",
      "   ---------------------------------------  16.3/16.4 MB 30.1 MB/s eta 0:00:01\n",
      "   ---------------------------------------- 16.4/16.4 MB 23.9 MB/s eta 0:00:00\n",
      "Installing collected packages: mysql-connector-python\n",
      "Successfully installed mysql-connector-python-9.4.0\n",
      "Note: you may need to restart the kernel to use updated packages.\n",
      "5 registros inseridos com sucesso na tabela linha_producao.\n"
     ]
    }
   ],
   "source": [
    "# Primeiramente, vou utilizar uma biblioteca para conectar ao MySQL e inserir os dados do DataFrame.\n",
    "\n",
    "%pip install mysql-connector-python\n",
    "import mysql.connector\n",
    "\n",
    "# Função para inserir dados no MySQL, definindo o nome da tabela como 'linha_producao' e a conexão com o banco de dados.\n",
    "def insert_data_to_mysql(df, table_name='linha_producao'):\n",
    "    connection_params = {\n",
    "        'host': 'localhost',\n",
    "        'user': 'root',\n",
    "        'password': 'pw4dummy',\n",
    "        'database': 'prod_nsk'\n",
    "    }\n",
    "    data_to_insert = []  # declarar fora do try para retornar depois\n",
    "\n",
    "    try:\n",
    "        # Conectar ao banco de dados MySQL\n",
    "        conn = mysql.connector.connect(**connection_params)\n",
    "        # criar um cursor para executar comandos SQL\n",
    "        cursor = conn.cursor()\n",
    "\n",
    "        # SQL para inserir dados na tabela\n",
    "        # Usando f-string para formatar a consulta SQL com o nome da tabela\n",
    "        sql = f\"INSERT INTO {table_name} (id_linha, nome_linha, turno, capacidade_hora) VALUES (%s, %s, %s, %s)\"\n",
    "\n",
    "        # Iterar sobre o DataFrame e preparar os dados para inserção\n",
    "        # Usando executemany para inserir múltiplas linhas de uma vez\n",
    "        for _, row in df.iterrows():\n",
    "            values = (\n",
    "                int(row['id_linha']),\n",
    "                row['nome_linha'],\n",
    "                row['turno'],\n",
    "                int(row['capacidade_hora'])\n",
    "            )\n",
    "            data_to_insert.append(values)\n",
    "\n",
    "        cursor.executemany(sql, data_to_insert)\n",
    "        conn.commit()\n",
    "\n",
    "        #mensagem de sucesso\n",
    "        print(f\"{cursor.rowcount} registros inseridos com sucesso na tabela {table_name}.\")\n",
    "    \n",
    "    except mysql.connector.Error as err:\n",
    "        # mensagem de erro\n",
    "        print(f\"Erro MySQL: {err}\")\n",
    "    \n",
    "    # fechar o cursor e a conexão\n",
    "    finally:\n",
    "        if cursor:\n",
    "            cursor.close()\n",
    "        if conn:\n",
    "            conn.close()\n",
    "    \n",
    "    return data_to_insert  # retornando aqui\n",
    "\n",
    "# Executar e capturar os dados\n",
    "data_to_insert = insert_data_to_mysql(df)\n"
   ]
  }
 ],
 "metadata": {
  "kernelspec": {
   "display_name": "Python 3",
   "language": "python",
   "name": "python3"
  },
  "language_info": {
   "codemirror_mode": {
    "name": "ipython",
    "version": 3
   },
   "file_extension": ".py",
   "mimetype": "text/x-python",
   "name": "python",
   "nbconvert_exporter": "python",
   "pygments_lexer": "ipython3",
   "version": "3.8.2"
  }
 },
 "nbformat": 4,
 "nbformat_minor": 5
}
