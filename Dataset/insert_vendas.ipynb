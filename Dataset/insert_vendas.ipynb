{
 "cells": [
  {
   "cell_type": "markdown",
   "id": "09f876ff",
   "metadata": {},
   "source": [
    "Utilizando o Python para criar um script de carregamento para a \"Vendas\""
   ]
  },
  {
   "cell_type": "code",
   "execution_count": 1,
   "id": "819ff055",
   "metadata": {},
   "outputs": [],
   "source": [
    "import pandas as pd"
   ]
  },
  {
   "cell_type": "markdown",
   "id": "40925b6e",
   "metadata": {},
   "source": [
    "Mostrando o conteudo do CSV (Apenas os dois primeiros)"
   ]
  },
  {
   "cell_type": "code",
   "execution_count": 2,
   "id": "91969a23",
   "metadata": {},
   "outputs": [
    {
     "data": {
      "text/html": [
       "<div>\n",
       "<style scoped>\n",
       "    .dataframe tbody tr th:only-of-type {\n",
       "        vertical-align: middle;\n",
       "    }\n",
       "\n",
       "    .dataframe tbody tr th {\n",
       "        vertical-align: top;\n",
       "    }\n",
       "\n",
       "    .dataframe thead th {\n",
       "        text-align: right;\n",
       "    }\n",
       "</style>\n",
       "<table border=\"1\" class=\"dataframe\">\n",
       "  <thead>\n",
       "    <tr style=\"text-align: right;\">\n",
       "      <th></th>\n",
       "      <th>id_venda</th>\n",
       "      <th>data_venda</th>\n",
       "      <th>id_cliente</th>\n",
       "      <th>id_produto</th>\n",
       "      <th>quantidade</th>\n",
       "    </tr>\n",
       "  </thead>\n",
       "  <tbody>\n",
       "    <tr>\n",
       "      <th>0</th>\n",
       "      <td>1</td>\n",
       "      <td>2024-05-01</td>\n",
       "      <td>97</td>\n",
       "      <td>46</td>\n",
       "      <td>407</td>\n",
       "    </tr>\n",
       "    <tr>\n",
       "      <th>1</th>\n",
       "      <td>2</td>\n",
       "      <td>2024-06-13</td>\n",
       "      <td>34</td>\n",
       "      <td>16</td>\n",
       "      <td>62</td>\n",
       "    </tr>\n",
       "  </tbody>\n",
       "</table>\n",
       "</div>"
      ],
      "text/plain": [
       "   id_venda  data_venda  id_cliente  id_produto  quantidade\n",
       "0         1  2024-05-01          97          46         407\n",
       "1         2  2024-06-13          34          16          62"
      ]
     },
     "execution_count": 2,
     "metadata": {},
     "output_type": "execute_result"
    }
   ],
   "source": [
    "df = pd.read_csv('fato_vendas.csv')\n",
    "df.head(2)"
   ]
  },
  {
   "cell_type": "markdown",
   "id": "4f7a7fd3",
   "metadata": {},
   "source": [
    "Visualizando os metadados do nosso arquivo, para checagem de tipo de dados etc"
   ]
  },
  {
   "cell_type": "code",
   "execution_count": 3,
   "id": "d19319be",
   "metadata": {},
   "outputs": [
    {
     "name": "stdout",
     "output_type": "stream",
     "text": [
      "<class 'pandas.core.frame.DataFrame'>\n",
      "RangeIndex: 1000 entries, 0 to 999\n",
      "Data columns (total 5 columns):\n",
      " #   Column      Non-Null Count  Dtype \n",
      "---  ------      --------------  ----- \n",
      " 0   id_venda    1000 non-null   int64 \n",
      " 1   data_venda  1000 non-null   object\n",
      " 2   id_cliente  1000 non-null   int64 \n",
      " 3   id_produto  1000 non-null   int64 \n",
      " 4   quantidade  1000 non-null   int64 \n",
      "dtypes: int64(4), object(1)\n",
      "memory usage: 39.2+ KB\n"
     ]
    }
   ],
   "source": [
    "df.info()"
   ]
  },
  {
   "cell_type": "markdown",
   "id": "e0d88e03",
   "metadata": {},
   "source": [
    "Primeiro modo, inserção manual, apenas cria um script de inserção."
   ]
  },
  {
   "cell_type": "code",
   "execution_count": 4,
   "id": "8c5488c9",
   "metadata": {},
   "outputs": [
    {
     "name": "stdout",
     "output_type": "stream",
     "text": [
      "Arquivo 'inserts_vendas.sql' gerado com sucesso!\n"
     ]
    }
   ],
   "source": [
    "with open('inserts_vendas.sql', 'w', encoding='utf-8') as f:\n",
    "    for _, row in df.iterrows():\n",
    "        \n",
    "        insert_sql = (\n",
    "            \"INSERT INTO vendas (id_venda, data_venda, id_cliente, id_produto, quantidade) \"\n",
    "            \"VALUES ({}, {}, {}, {}, {});\\n\".format(row['id_venda'], row['data_venda'], row['id_cliente'], row['id_produto'], row['quantidade'])\n",
    "        )\n",
    "        f.write(insert_sql)\n",
    "\n",
    "print(\"Arquivo 'inserts_vendas.sql' gerado com sucesso!\")\n"
   ]
  },
  {
   "cell_type": "markdown",
   "id": "d5af1345",
   "metadata": {},
   "source": [
    "Segundo modo, inserção direta no banco de dados, executa os comandos de insert diretamente."
   ]
  },
  {
   "cell_type": "code",
   "execution_count": null,
   "id": "a5e57189",
   "metadata": {},
   "outputs": [
    {
     "name": "stdout",
     "output_type": "stream",
     "text": [
      "1000 registros inseridos com sucesso na tabela vendas.\n"
     ]
    }
   ],
   "source": [
    "# Primeiramente, vou utilizar uma biblioteca para conectar ao MySQL e inserir os dados do DataFrame.\n",
    "\n",
    "from decimal import Decimal\n",
    "import mysql.connector\n",
    "\n",
    "# Função para inserir dados no MySQL, definindo o nome da tabela como 'vendas' e a conexão com o banco de dados.\n",
    "\n",
    "def insert_data_to_mysql(df, table_name='vendas'):\n",
    "    connection_params = {\n",
    "        'host': 'localhost',\n",
    "        'user': 'root',\n",
    "        'password': 'pw4dummy',\n",
    "        'database': 'prod_nsk'\n",
    "    }\n",
    "    try:\n",
    "        # Conectar ao banco de dados MySQL\n",
    "        conn = mysql.connector.connect(**connection_params)\n",
    "        # Criar um cursor para executar comandos SQL\n",
    "        cursor = conn.cursor()\n",
    "\n",
    "        # SQL para inserir dados na tabela\n",
    "        #\n",
    "        sql = f\"\"\"\n",
    "        INSERT INTO {table_name}\n",
    "        (id_venda, data_venda, id_cliente, id_produto, quantidade)\n",
    "        VALUES (%s, %s, %s, %s, %s)\n",
    "        \"\"\"\n",
    "        count = 0\n",
    "        for _, row in df.iterrows():\n",
    "            values = (\n",
    "                int(row['id_venda']),\n",
    "                row['data_venda'],\n",
    "                int(row['id_cliente']),\n",
    "                int(row['id_produto']),\n",
    "                int(row['quantidade'])\n",
    "            )\n",
    "            cursor.execute(sql, values)\n",
    "            count += 1\n",
    "\n",
    "        conn.commit()\n",
    "        #mensagem de sucesso\n",
    "        print(f\"{count} registros inseridos com sucesso na tabela {table_name}.\")\n",
    "\n",
    "    except mysql.connector.Error as err:\n",
    "        # Mensagem de erro\n",
    "        print(f\"Erro MySQL: {err}\")\n",
    "\n",
    "    # Fechar o cursor e a conexão\n",
    "    finally:\n",
    "        if cursor:\n",
    "            cursor.close()\n",
    "        if conn:\n",
    "            conn.close()\n",
    "\n",
    "# Executar inserção\n",
    "insert_data_to_mysql(df)"
   ]
  }
 ],
 "metadata": {
  "kernelspec": {
   "display_name": "Python 3",
   "language": "python",
   "name": "python3"
  },
  "language_info": {
   "codemirror_mode": {
    "name": "ipython",
    "version": 3
   },
   "file_extension": ".py",
   "mimetype": "text/x-python",
   "name": "python",
   "nbconvert_exporter": "python",
   "pygments_lexer": "ipython3",
   "version": "3.13.0"
  }
 },
 "nbformat": 4,
 "nbformat_minor": 5
}
