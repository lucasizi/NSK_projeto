{
 "cells": [
  {
   "cell_type": "markdown",
   "id": "09f876ff",
   "metadata": {},
   "source": [
    "Utilizando o Python para criar um script de carregamento para a \"Produtos\""
   ]
  },
  {
   "cell_type": "code",
   "execution_count": 1,
   "id": "819ff055",
   "metadata": {},
   "outputs": [],
   "source": [
    "import pandas as pd"
   ]
  },
  {
   "cell_type": "markdown",
   "id": "40925b6e",
   "metadata": {},
   "source": [
    "Mostrando o conteudo do CSV (Apenas os dois primeiros)"
   ]
  },
  {
   "cell_type": "code",
   "execution_count": 2,
   "id": "91969a23",
   "metadata": {},
   "outputs": [
    {
     "data": {
      "text/html": [
       "<div>\n",
       "<style scoped>\n",
       "    .dataframe tbody tr th:only-of-type {\n",
       "        vertical-align: middle;\n",
       "    }\n",
       "\n",
       "    .dataframe tbody tr th {\n",
       "        vertical-align: top;\n",
       "    }\n",
       "\n",
       "    .dataframe thead th {\n",
       "        text-align: right;\n",
       "    }\n",
       "</style>\n",
       "<table border=\"1\" class=\"dataframe\">\n",
       "  <thead>\n",
       "    <tr style=\"text-align: right;\">\n",
       "      <th></th>\n",
       "      <th>id_produto</th>\n",
       "      <th>nome</th>\n",
       "      <th>categoria</th>\n",
       "      <th>preco_unitario</th>\n",
       "      <th>id_linha</th>\n",
       "    </tr>\n",
       "  </thead>\n",
       "  <tbody>\n",
       "    <tr>\n",
       "      <th>0</th>\n",
       "      <td>1</td>\n",
       "      <td>Rolamento AX-12</td>\n",
       "      <td>Automotivo</td>\n",
       "      <td>155.15</td>\n",
       "      <td>1</td>\n",
       "    </tr>\n",
       "    <tr>\n",
       "      <th>1</th>\n",
       "      <td>2</td>\n",
       "      <td>Rolamento GY-7</td>\n",
       "      <td>Automotivo</td>\n",
       "      <td>216.70</td>\n",
       "      <td>1</td>\n",
       "    </tr>\n",
       "  </tbody>\n",
       "</table>\n",
       "</div>"
      ],
      "text/plain": [
       "   id_produto             nome   categoria  preco_unitario  id_linha\n",
       "0           1  Rolamento AX-12  Automotivo          155.15         1\n",
       "1           2   Rolamento GY-7  Automotivo          216.70         1"
      ]
     },
     "execution_count": 2,
     "metadata": {},
     "output_type": "execute_result"
    }
   ],
   "source": [
    "df = pd.read_csv('dim_produtos.csv')\n",
    "df.head(2)"
   ]
  },
  {
   "cell_type": "markdown",
   "id": "4f7a7fd3",
   "metadata": {},
   "source": [
    "Visualizando os metadados do nosso arquivo, para checagem de tipo de dados etc"
   ]
  },
  {
   "cell_type": "code",
   "execution_count": 3,
   "id": "d19319be",
   "metadata": {},
   "outputs": [
    {
     "name": "stdout",
     "output_type": "stream",
     "text": [
      "<class 'pandas.core.frame.DataFrame'>\n",
      "RangeIndex: 8 entries, 0 to 7\n",
      "Data columns (total 5 columns):\n",
      " #   Column          Non-Null Count  Dtype  \n",
      "---  ------          --------------  -----  \n",
      " 0   id_produto      8 non-null      int64  \n",
      " 1   nome            8 non-null      object \n",
      " 2   categoria       8 non-null      object \n",
      " 3   preco_unitario  8 non-null      float64\n",
      " 4   id_linha        8 non-null      int64  \n",
      "dtypes: float64(1), int64(2), object(2)\n",
      "memory usage: 452.0+ bytes\n"
     ]
    }
   ],
   "source": [
    "df.info()"
   ]
  },
  {
   "cell_type": "markdown",
   "id": "e0d88e03",
   "metadata": {},
   "source": [
    "Primeiro modo, inserção manual, apenas cria um script de inserção."
   ]
  },
  {
   "cell_type": "code",
   "execution_count": 27,
   "id": "8c5488c9",
   "metadata": {},
   "outputs": [
    {
     "name": "stdout",
     "output_type": "stream",
     "text": [
      "Arquivo 'insert_produtos.sql' gerado com sucesso!\n"
     ]
    }
   ],
   "source": [
    "with open('inserts_produtos.sql', 'w', encoding='utf-8') as f:\n",
    "    for _, row in df.iterrows():\n",
    "        nome = row['nome'].replace(\"'\", \"''\")\n",
    "        categoria = row['categoria'].replace(\"'\", \"''\")\n",
    "        preco_unitario = row['preco_unitario']\n",
    "        \n",
    "        insert_sql = (\n",
    "            \"INSERT INTO produtos (id_produto, nome, categoria, preco_unitario, id_linha) \"\n",
    "            \"VALUES ({}, '{}', '{}', {}, {});\\n\".format(row['id_produto'], nome, categoria, preco_unitario, row['id_linha'])\n",
    "        )\n",
    "        f.write(insert_sql)\n",
    "\n",
    "print(\"Arquivo 'insert_produtos.sql' gerado com sucesso!\")\n"
   ]
  },
  {
   "cell_type": "markdown",
   "id": "d5af1345",
   "metadata": {},
   "source": [
    "Segundo modo, inserção direta no banco de dados, executa os comandos de insert diretamente."
   ]
  },
  {
   "cell_type": "code",
   "execution_count": 4,
   "id": "8981f246",
   "metadata": {},
   "outputs": [
    {
     "name": "stdout",
     "output_type": "stream",
     "text": [
      "8 registros inseridos com sucesso na tabela produtos.\n"
     ]
    }
   ],
   "source": [
    "# Primeiramente, vou utilizar uma biblioteca para conectar ao MySQL e inserir os dados do DataFrame.\n",
    "\n",
    "import mysql.connector\n",
    "\n",
    "# Função para inserir dados no MySQL, definindo o nome da tabela como 'produtos' e a conexão com o banco de dados.\n",
    "def insert_data_to_mysql(df, table_name='produtos'):\n",
    "    connection_params = {\n",
    "        'host': 'localhost',\n",
    "        'user': 'root',\n",
    "        'password': 'pw4dummy',\n",
    "        'database': 'prod_nsk'\n",
    "    }\n",
    "    data_to_insert = []  # declarar fora do try para retornar depois\n",
    "\n",
    "    try:\n",
    "        # Conectar ao banco de dados MySQL\n",
    "        conn = mysql.connector.connect(**connection_params)\n",
    "        # criar um cursor para executar comandos SQL\n",
    "        cursor = conn.cursor()\n",
    "\n",
    "        # SQL para inserir dados na tabela\n",
    "        # Usando f-string para facilitar a inserção de dados\n",
    "        sql = f\"INSERT INTO {table_name} (id_produto, nome, categoria, preco_unitario, id_linha) VALUES (%s, %s, %s, %s, %s)\"\n",
    "\n",
    "        # Iterar sobre o DataFrame e preparar os dados para inserção\n",
    "        # Usando executemany para inserir múltiplas linhas de uma vez\n",
    "        for _, row in df.iterrows():\n",
    "            values = (\n",
    "                row['id_produto'],\n",
    "                row['nome'],\n",
    "                row['categoria'],\n",
    "                row['preco_unitario'],\n",
    "                row['id_linha']\n",
    "            )\n",
    "            data_to_insert.append(values)\n",
    "\n",
    "        cursor.executemany(sql, data_to_insert)\n",
    "        conn.commit()\n",
    "\n",
    "        #mensagem de sucesso\n",
    "        print(f\"{cursor.rowcount} registros inseridos com sucesso na tabela {table_name}.\")\n",
    "    \n",
    "    except mysql.connector.Error as err:\n",
    "        # mensagem de erro\n",
    "        print(f\"Erro MySQL: {err}\")\n",
    "    \n",
    "    # fechar o cursor e a conexão\n",
    "    finally:\n",
    "        if cursor:\n",
    "            cursor.close()\n",
    "        if conn:\n",
    "            conn.close()\n",
    "    \n",
    "    return data_to_insert  # retornando aqui\n",
    "\n",
    "# Executar e capturar os dados\n",
    "data_to_insert = insert_data_to_mysql(df)\n"
   ]
  }
 ],
 "metadata": {
  "kernelspec": {
   "display_name": "Python 3",
   "language": "python",
   "name": "python3"
  },
  "language_info": {
   "codemirror_mode": {
    "name": "ipython",
    "version": 3
   },
   "file_extension": ".py",
   "mimetype": "text/x-python",
   "name": "python",
   "nbconvert_exporter": "python",
   "pygments_lexer": "ipython3",
   "version": "3.13.0"
  }
 },
 "nbformat": 4,
 "nbformat_minor": 5
}
